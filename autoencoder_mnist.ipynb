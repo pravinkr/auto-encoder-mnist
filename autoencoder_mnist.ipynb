{
  "nbformat": 4,
  "nbformat_minor": 0,
  "metadata": {
    "colab": {
      "name": "autoencoder-mnist.ipynb",
      "provenance": [],
      "collapsed_sections": [],
      "include_colab_link": true
    },
    "kernelspec": {
      "name": "python3",
      "display_name": "Python 3"
    },
    "accelerator": "GPU"
  },
  "cells": [
    {
      "cell_type": "markdown",
      "metadata": {
        "id": "view-in-github",
        "colab_type": "text"
      },
      "source": [
        "<a href=\"https://colab.research.google.com/github/pravinkr/auto-encoder-mnist/blob/master/autoencoder_mnist.ipynb\" target=\"_parent\"><img src=\"https://colab.research.google.com/assets/colab-badge.svg\" alt=\"Open In Colab\"/></a>"
      ]
    },
    {
      "cell_type": "code",
      "metadata": {
        "id": "iURSi7kXMgn4",
        "colab_type": "code",
        "colab": {}
      },
      "source": [
        "\n",
        "from keras.layers import Dense, Input\n",
        "from keras.models import Model"
      ],
      "execution_count": 0,
      "outputs": []
    },
    {
      "cell_type": "code",
      "metadata": {
        "id": "xIf9AI29M867",
        "colab_type": "code",
        "colab": {}
      },
      "source": [
        "#This is the size of our encoding dimensiton\n",
        "encoding_dim=32 # 32 floats, Assuming input is 784 floats\n",
        "\n",
        "#Input placeholder\n",
        "input_img = Input(shape=(784,))\n",
        "\n",
        "#encoded is the encoded representation of the input\n",
        "\n",
        "encoded = Dense(128, activation='relu')(input_img)\n",
        "encoded = Dense(64, activation='relu')(encoded)\n",
        "encoded = Dense(encoding_dim, activation='relu')(encoded)\n",
        "\n",
        "#decoded is the lossy representation of the input\n",
        "decoded = Dense(64,activation='relu')(encoded)\n",
        "decoded = Dense(128,activation='relu')(encoded)\n",
        "decoded = Dense(784,activation='sigmoid')(encoded)\n",
        "\n",
        "#This model maps input to its reconstruction\n",
        "\n",
        "autoencoder = Model(input_img,decoded)\n"
      ],
      "execution_count": 0,
      "outputs": []
    },
    {
      "cell_type": "code",
      "metadata": {
        "id": "ESFDEvsxij_0",
        "colab_type": "code",
        "colab": {}
      },
      "source": [
        "#This model maps input to its representation\n",
        "\n",
        "encoder = Model(input_img,encoded)"
      ],
      "execution_count": 0,
      "outputs": []
    },
    {
      "cell_type": "code",
      "metadata": {
        "id": "mK2ELCaWixPi",
        "colab_type": "code",
        "colab": {}
      },
      "source": [
        "#create a placeholder for the encoded input\n",
        "encoded_input = Input(shape=(encoding_dim,))\n",
        "\n",
        "#retrive the last layer of the autoencoder model\n",
        "decoded_layer = autoencoder.layers[-1]\n",
        "\n",
        "#decoder \n",
        "\n",
        "decoder = Model(encoded_input,decoded_layer(encoded_input))\n",
        "\n"
      ],
      "execution_count": 0,
      "outputs": []
    },
    {
      "cell_type": "code",
      "metadata": {
        "id": "ik-lvDCeoVfO",
        "colab_type": "code",
        "colab": {}
      },
      "source": [
        "autoencoder.compile(optimizer='adadelta',loss='binary_crossentropy')\n"
      ],
      "execution_count": 0,
      "outputs": []
    },
    {
      "cell_type": "code",
      "metadata": {
        "id": "DbCd1BXxogRt",
        "colab_type": "code",
        "colab": {}
      },
      "source": [
        "from keras.datasets import mnist\n",
        "import numpy as np\n",
        "(x_train,_), (x_test,_) = mnist.load_data()"
      ],
      "execution_count": 0,
      "outputs": []
    },
    {
      "cell_type": "code",
      "metadata": {
        "id": "4s3KU-eJikIb",
        "colab_type": "code",
        "outputId": "edfc3db0-f9ff-4366-cec6-149c86e229fe",
        "colab": {
          "base_uri": "https://localhost:8080/",
          "height": 51
        }
      },
      "source": [
        "#We will normalize all values between 0 and 1 and we will flatten the 28x28 images into vectors of size 784.\n",
        "\n",
        "x_train = x_train.astype('float32') / 255.\n",
        "x_test = x_test.astype('float32') / 255.\n",
        "\n",
        "x_train = x_train.reshape((len(x_train),np.prod(x_train.shape[1:])))\n",
        "x_test = x_test.reshape((len(x_test),np.prod(x_test.shape[1:])))\n",
        "\n",
        "print(\"x_train shape\",x_train.shape)\n",
        "print(\"x_test shape\",x_test.shape)\n"
      ],
      "execution_count": 43,
      "outputs": [
        {
          "output_type": "stream",
          "text": [
            "x_train shape (60000, 784)\n",
            "x_test shape (10000, 784)\n"
          ],
          "name": "stdout"
        }
      ]
    },
    {
      "cell_type": "code",
      "metadata": {
        "id": "T2Xa58z9psTH",
        "colab_type": "code",
        "outputId": "40e04de3-fcb9-4f61-9dd3-6ddb26603cec",
        "colab": {
          "base_uri": "https://localhost:8080/",
          "height": 1000
        }
      },
      "source": [
        "autoencoder.fit(x_train,x_train, epochs=50,\n",
        "                batch_size=256,\n",
        "                shuffle=True,\n",
        "                validation_data=(x_test,x_test))"
      ],
      "execution_count": 44,
      "outputs": [
        {
          "output_type": "stream",
          "text": [
            "Train on 60000 samples, validate on 10000 samples\n",
            "Epoch 1/50\n",
            "60000/60000 [==============================] - 2s 41us/step - loss: 0.3464 - val_loss: 0.2659\n",
            "Epoch 2/50\n",
            "60000/60000 [==============================] - 2s 30us/step - loss: 0.2583 - val_loss: 0.2463\n",
            "Epoch 3/50\n",
            "60000/60000 [==============================] - 2s 30us/step - loss: 0.2365 - val_loss: 0.2264\n",
            "Epoch 4/50\n",
            "60000/60000 [==============================] - 2s 29us/step - loss: 0.2150 - val_loss: 0.2039\n",
            "Epoch 5/50\n",
            "60000/60000 [==============================] - 2s 30us/step - loss: 0.1982 - val_loss: 0.1901\n",
            "Epoch 6/50\n",
            "60000/60000 [==============================] - 2s 30us/step - loss: 0.1858 - val_loss: 0.1801\n",
            "Epoch 7/50\n",
            "60000/60000 [==============================] - 2s 30us/step - loss: 0.1777 - val_loss: 0.1724\n",
            "Epoch 8/50\n",
            "60000/60000 [==============================] - 2s 30us/step - loss: 0.1709 - val_loss: 0.1671\n",
            "Epoch 9/50\n",
            "60000/60000 [==============================] - 2s 31us/step - loss: 0.1645 - val_loss: 0.1603\n",
            "Epoch 10/50\n",
            "60000/60000 [==============================] - 2s 31us/step - loss: 0.1593 - val_loss: 0.1559\n",
            "Epoch 11/50\n",
            "60000/60000 [==============================] - 2s 30us/step - loss: 0.1553 - val_loss: 0.1514\n",
            "Epoch 12/50\n",
            "60000/60000 [==============================] - 2s 30us/step - loss: 0.1515 - val_loss: 0.1474\n",
            "Epoch 13/50\n",
            "60000/60000 [==============================] - 2s 30us/step - loss: 0.1481 - val_loss: 0.1451\n",
            "Epoch 14/50\n",
            "60000/60000 [==============================] - 2s 31us/step - loss: 0.1454 - val_loss: 0.1428\n",
            "Epoch 15/50\n",
            "60000/60000 [==============================] - 2s 32us/step - loss: 0.1429 - val_loss: 0.1402\n",
            "Epoch 16/50\n",
            "60000/60000 [==============================] - 2s 31us/step - loss: 0.1405 - val_loss: 0.1367\n",
            "Epoch 17/50\n",
            "60000/60000 [==============================] - 2s 31us/step - loss: 0.1381 - val_loss: 0.1353\n",
            "Epoch 18/50\n",
            "60000/60000 [==============================] - 2s 31us/step - loss: 0.1359 - val_loss: 0.1327\n",
            "Epoch 19/50\n",
            "60000/60000 [==============================] - 2s 30us/step - loss: 0.1336 - val_loss: 0.1303\n",
            "Epoch 20/50\n",
            "60000/60000 [==============================] - 2s 30us/step - loss: 0.1314 - val_loss: 0.1280\n",
            "Epoch 21/50\n",
            "60000/60000 [==============================] - 2s 30us/step - loss: 0.1294 - val_loss: 0.1261\n",
            "Epoch 22/50\n",
            "60000/60000 [==============================] - 2s 30us/step - loss: 0.1277 - val_loss: 0.1260\n",
            "Epoch 23/50\n",
            "60000/60000 [==============================] - 2s 30us/step - loss: 0.1261 - val_loss: 0.1239\n",
            "Epoch 24/50\n",
            "60000/60000 [==============================] - 2s 30us/step - loss: 0.1247 - val_loss: 0.1226\n",
            "Epoch 25/50\n",
            "60000/60000 [==============================] - 2s 31us/step - loss: 0.1232 - val_loss: 0.1205\n",
            "Epoch 26/50\n",
            "60000/60000 [==============================] - 2s 30us/step - loss: 0.1221 - val_loss: 0.1193\n",
            "Epoch 27/50\n",
            "60000/60000 [==============================] - 2s 29us/step - loss: 0.1210 - val_loss: 0.1198\n",
            "Epoch 28/50\n",
            "60000/60000 [==============================] - 2s 30us/step - loss: 0.1199 - val_loss: 0.1180\n",
            "Epoch 29/50\n",
            "60000/60000 [==============================] - 2s 31us/step - loss: 0.1189 - val_loss: 0.1169\n",
            "Epoch 30/50\n",
            "60000/60000 [==============================] - 2s 30us/step - loss: 0.1182 - val_loss: 0.1165\n",
            "Epoch 31/50\n",
            "60000/60000 [==============================] - 2s 31us/step - loss: 0.1175 - val_loss: 0.1150\n",
            "Epoch 32/50\n",
            "60000/60000 [==============================] - 2s 30us/step - loss: 0.1166 - val_loss: 0.1144\n",
            "Epoch 33/50\n",
            "60000/60000 [==============================] - 2s 30us/step - loss: 0.1161 - val_loss: 0.1145\n",
            "Epoch 34/50\n",
            "60000/60000 [==============================] - 2s 30us/step - loss: 0.1156 - val_loss: 0.1137\n",
            "Epoch 35/50\n",
            "60000/60000 [==============================] - 2s 30us/step - loss: 0.1151 - val_loss: 0.1134\n",
            "Epoch 36/50\n",
            "60000/60000 [==============================] - 2s 32us/step - loss: 0.1147 - val_loss: 0.1136\n",
            "Epoch 37/50\n",
            "60000/60000 [==============================] - 2s 31us/step - loss: 0.1140 - val_loss: 0.1122\n",
            "Epoch 38/50\n",
            "60000/60000 [==============================] - 2s 31us/step - loss: 0.1135 - val_loss: 0.1119\n",
            "Epoch 39/50\n",
            "60000/60000 [==============================] - 2s 30us/step - loss: 0.1132 - val_loss: 0.1112\n",
            "Epoch 40/50\n",
            "60000/60000 [==============================] - 2s 30us/step - loss: 0.1123 - val_loss: 0.1110\n",
            "Epoch 41/50\n",
            "60000/60000 [==============================] - 2s 30us/step - loss: 0.1120 - val_loss: 0.1108\n",
            "Epoch 42/50\n",
            "60000/60000 [==============================] - 2s 31us/step - loss: 0.1114 - val_loss: 0.1094\n",
            "Epoch 43/50\n",
            "60000/60000 [==============================] - 2s 31us/step - loss: 0.1108 - val_loss: 0.1089\n",
            "Epoch 44/50\n",
            "60000/60000 [==============================] - 2s 30us/step - loss: 0.1103 - val_loss: 0.1088\n",
            "Epoch 45/50\n",
            "60000/60000 [==============================] - 2s 30us/step - loss: 0.1099 - val_loss: 0.1082\n",
            "Epoch 46/50\n",
            "60000/60000 [==============================] - 2s 30us/step - loss: 0.1094 - val_loss: 0.1082\n",
            "Epoch 47/50\n",
            "60000/60000 [==============================] - 2s 30us/step - loss: 0.1089 - val_loss: 0.1072\n",
            "Epoch 48/50\n",
            "60000/60000 [==============================] - 2s 31us/step - loss: 0.1087 - val_loss: 0.1070\n",
            "Epoch 49/50\n",
            "60000/60000 [==============================] - 2s 30us/step - loss: 0.1081 - val_loss: 0.1064\n",
            "Epoch 50/50\n",
            "60000/60000 [==============================] - 2s 29us/step - loss: 0.1078 - val_loss: 0.1061\n"
          ],
          "name": "stdout"
        },
        {
          "output_type": "execute_result",
          "data": {
            "text/plain": [
              "<keras.callbacks.History at 0x7fac9fc5b208>"
            ]
          },
          "metadata": {
            "tags": []
          },
          "execution_count": 44
        }
      ]
    },
    {
      "cell_type": "code",
      "metadata": {
        "id": "pwCEDrKlUDlI",
        "colab_type": "code",
        "colab": {}
      },
      "source": [
        "# encode and decode some digits\n",
        "# note that we take them from the *test* set\n",
        "encoded_imgs = encoder.predict(x_test)\n",
        "decoded_imgs = decoder.predict(encoded_imgs)"
      ],
      "execution_count": 0,
      "outputs": []
    },
    {
      "cell_type": "code",
      "metadata": {
        "id": "X7OlcKZgqg5S",
        "colab_type": "code",
        "colab": {
          "base_uri": "https://localhost:8080/",
          "height": 244
        },
        "outputId": "3665573a-d957-4de0-f2b8-cfd3fdb613e8"
      },
      "source": [
        "#use matplotlib *don't ask why*\n",
        "\n",
        "import matplotlib.pyplot as plt\n",
        "\n",
        "n=10 #how many digits to display\n",
        "plt.figure(figsize=(20,4))\n",
        "for i in range(n):\n",
        "  #display original\n",
        "  ax = plt.subplot(2,n,i+1)\n",
        "  plt.imshow(x_test[i].reshape(28,28))\n",
        "  plt.gray()\n",
        "  ax.get_xaxis().set_visible(False)\n",
        "  ax.get_yaxis().set_visible(False)\n",
        "\n",
        "  #display reconstruction\n",
        "  ax = plt.subplot(2,n,i+1+n)\n",
        "  plt.imshow(decoded_imgs[i].reshape(28,28))\n",
        "  plt.gray()\n",
        "  ax.get_xaxis().set_visible(False)\n",
        "  ax.get_yaxis().set_visible(False)\n",
        "\n",
        "\n",
        "plt.show()\n",
        "\n"
      ],
      "execution_count": 46,
      "outputs": [
        {
          "output_type": "display_data",
          "data": {
            "image/png": "[encoded data removed]",
            "text/plain": [
              "<Figure size 1440x288 with 20 Axes>"
            ]
          },
          "metadata": {
            "tags": []
          }
        }
      ]
    }
  ]
}